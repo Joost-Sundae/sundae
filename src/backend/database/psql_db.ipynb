{
 "cells": [
  {
   "cell_type": "code",
   "execution_count": 1,
   "id": "911b5d5c",
   "metadata": {},
   "outputs": [],
   "source": [
    "import requests;\n",
    "import psycopg2;\n",
    "import json;"
   ]
  },
  {
   "cell_type": "code",
   "execution_count": 2,
   "id": "4d35d93f",
   "metadata": {},
   "outputs": [],
   "source": [
    "# Establish a connection to the PostgreSQL database\n",
    "conn = psycopg2.connect(\n",
    "    host=\"localhost\",\n",
    "    database=\"joostdelaere\",\n",
    "    user=\"joostdelaere\",\n",
    "    password=\"\"\n",
    ")\n",
    "\n",
    "cursor = conn.cursor()"
   ]
  },
  {
   "cell_type": "code",
   "execution_count": 3,
   "id": "d79615de",
   "metadata": {},
   "outputs": [
    {
     "ename": "UniqueViolation",
     "evalue": "duplicate key value violates unique constraint \"apy_data_pkey\"\nDETAIL:  Key (epoch)=(12045) already exists.\nCONTEXT:  SQL statement \"WITH time_window AS (\n        SELECT\n            (SELECT MAX(timestamp) - INTERVAL '7 days' FROM user_info) AS start_time,\n            (SELECT MAX(timestamp) FROM user_info) AS end_time\n    )\n    INSERT INTO apy_data (\n        epoch,\n        timestamp,\n        staking_rewards_apy,\n        interest_earnings_apy,\n        total_earnings_apy\n    )\n    SELECT\n        epoch,\n        recent_timestamp AS timestamp,\n        ((recent_staking_rewards_relative - latest_staking_rewards_relative) / latest_staking_rewards_relative)\n            * (365 / EXTRACT(DAY FROM (recent_timestamp - latest_timestamp))) \n                AS staking_rewards_apy,\n\n        ((recent_interest_earnings_relative - latest_interest_earnings_relative) / latest_interest_earnings_relative)\n            * (365 / EXTRACT(DAY FROM (recent_timestamp - latest_timestamp))) \n                AS interest_earnings_apy, \n                \n        ( 1 + ((recent_staking_rewards_relative - latest_staking_rewards_relative) / latest_staking_rewards_relative)\n                * (365 / EXTRACT(DAY FROM (recent_timestamp - latest_timestamp))))      \n            * \n                ( 1 + ((recent_interest_earnings_relative - latest_interest_earnings_relative) / latest_interest_earnings_relative)\n                        * (365 / EXTRACT(DAY FROM (recent_timestamp - latest_timestamp))))   \n                    - 1 AS total_earnings_apy\n\n    FROM (\n        SELECT\n            recent_entry.epoch,\n            recent_entry.timestamp AS recent_timestamp,\n            latest_entry.timestamp AS latest_timestamp,\n            latest_entry.stake + recent_entry.staking_rewards  AS recent_staking_rewards_relative,\n            latest_entry.staking_rewards + recent_entry.interest_earnings AS recent_interest_earnings_relative,\n            latest_entry.stake + latest_entry.staking_rewards  AS latest_staking_rewards_relative,\n            latest_entry.staking_rewards + latest_entry.interest_earnings AS latest_interest_earnings_relative\n        FROM (\n            SELECT\n                ui.epoch,\n                ui.timestamp AS timestamp,\n                1000 AS stake,\n                ui.lsu_amount AS lsu_amount,\n                ui.staking_rewards AS staking_rewards,\n                ui.interest_earnings AS interest_earnings\n            FROM user_info ui\n            JOIN time_window tw ON ui.timestamp >= tw.start_time AND ui.timestamp <= tw.end_time\n            WHERE ui.nft_id = '#1#'\n            ORDER BY ui.timestamp DESC\n            LIMIT 1\n        ) AS recent_entry\n        CROSS JOIN (\n            SELECT\n                ui.epoch,\n                ui.timestamp AS timestamp,\n                1000 AS stake,\n                ui.lsu_amount AS lsu_amount,\n                ui.staking_rewards AS staking_rewards,\n                ui.interest_earnings AS interest_earnings\n            FROM user_info ui\n            JOIN time_window tw ON ui.timestamp >= tw.start_time AND ui.timestamp <= tw.end_time\n            WHERE ui.nft_id = '#1#'\n            ORDER BY ui.timestamp ASC\n            LIMIT 1\n        ) AS latest_entry\n    ) AS apy\"\nPL/pgSQL function insert_apy_data() line 3 at SQL statement\n",
     "output_type": "error",
     "traceback": [
      "\u001b[0;31m---------------------------------------------------------------------------\u001b[0m",
      "\u001b[0;31mUniqueViolation\u001b[0m                           Traceback (most recent call last)",
      "Cell \u001b[0;32mIn[3], line 43\u001b[0m\n\u001b[1;32m     33\u001b[0m cursor\u001b[38;5;241m.\u001b[39mexecute(\u001b[38;5;124m'''\u001b[39m\u001b[38;5;124mCREATE TABLE IF NOT EXISTS apy_data (\u001b[39m\n\u001b[1;32m     34\u001b[0m \u001b[38;5;124m                    epoch DECIMAL,\u001b[39m\n\u001b[1;32m     35\u001b[0m \u001b[38;5;124m                    timestamp TIMESTAMP,\u001b[39m\n\u001b[0;32m   (...)\u001b[0m\n\u001b[1;32m     39\u001b[0m \u001b[38;5;124m                    PRIMARY KEY (epoch)\u001b[39m\n\u001b[1;32m     40\u001b[0m \u001b[38;5;124m                );\u001b[39m\u001b[38;5;124m'''\u001b[39m)\n\u001b[1;32m     42\u001b[0m \u001b[38;5;66;03m# Execute the stored procedure\u001b[39;00m\n\u001b[0;32m---> 43\u001b[0m \u001b[43mcursor\u001b[49m\u001b[38;5;241;43m.\u001b[39;49m\u001b[43mexecute\u001b[49m\u001b[43m(\u001b[49m\u001b[38;5;124;43m\"\u001b[39;49m\u001b[38;5;124;43mCALL insert_apy_data();\u001b[39;49m\u001b[38;5;124;43m\"\u001b[39;49m\u001b[43m)\u001b[49m\n\u001b[1;32m     46\u001b[0m \u001b[38;5;66;03m# Commit the changes to the database\u001b[39;00m\n\u001b[1;32m     47\u001b[0m conn\u001b[38;5;241m.\u001b[39mcommit()\n",
      "\u001b[0;31mUniqueViolation\u001b[0m: duplicate key value violates unique constraint \"apy_data_pkey\"\nDETAIL:  Key (epoch)=(12045) already exists.\nCONTEXT:  SQL statement \"WITH time_window AS (\n        SELECT\n            (SELECT MAX(timestamp) - INTERVAL '7 days' FROM user_info) AS start_time,\n            (SELECT MAX(timestamp) FROM user_info) AS end_time\n    )\n    INSERT INTO apy_data (\n        epoch,\n        timestamp,\n        staking_rewards_apy,\n        interest_earnings_apy,\n        total_earnings_apy\n    )\n    SELECT\n        epoch,\n        recent_timestamp AS timestamp,\n        ((recent_staking_rewards_relative - latest_staking_rewards_relative) / latest_staking_rewards_relative)\n            * (365 / EXTRACT(DAY FROM (recent_timestamp - latest_timestamp))) \n                AS staking_rewards_apy,\n\n        ((recent_interest_earnings_relative - latest_interest_earnings_relative) / latest_interest_earnings_relative)\n            * (365 / EXTRACT(DAY FROM (recent_timestamp - latest_timestamp))) \n                AS interest_earnings_apy, \n                \n        ( 1 + ((recent_staking_rewards_relative - latest_staking_rewards_relative) / latest_staking_rewards_relative)\n                * (365 / EXTRACT(DAY FROM (recent_timestamp - latest_timestamp))))      \n            * \n                ( 1 + ((recent_interest_earnings_relative - latest_interest_earnings_relative) / latest_interest_earnings_relative)\n                        * (365 / EXTRACT(DAY FROM (recent_timestamp - latest_timestamp))))   \n                    - 1 AS total_earnings_apy\n\n    FROM (\n        SELECT\n            recent_entry.epoch,\n            recent_entry.timestamp AS recent_timestamp,\n            latest_entry.timestamp AS latest_timestamp,\n            latest_entry.stake + recent_entry.staking_rewards  AS recent_staking_rewards_relative,\n            latest_entry.staking_rewards + recent_entry.interest_earnings AS recent_interest_earnings_relative,\n            latest_entry.stake + latest_entry.staking_rewards  AS latest_staking_rewards_relative,\n            latest_entry.staking_rewards + latest_entry.interest_earnings AS latest_interest_earnings_relative\n        FROM (\n            SELECT\n                ui.epoch,\n                ui.timestamp AS timestamp,\n                1000 AS stake,\n                ui.lsu_amount AS lsu_amount,\n                ui.staking_rewards AS staking_rewards,\n                ui.interest_earnings AS interest_earnings\n            FROM user_info ui\n            JOIN time_window tw ON ui.timestamp >= tw.start_time AND ui.timestamp <= tw.end_time\n            WHERE ui.nft_id = '#1#'\n            ORDER BY ui.timestamp DESC\n            LIMIT 1\n        ) AS recent_entry\n        CROSS JOIN (\n            SELECT\n                ui.epoch,\n                ui.timestamp AS timestamp,\n                1000 AS stake,\n                ui.lsu_amount AS lsu_amount,\n                ui.staking_rewards AS staking_rewards,\n                ui.interest_earnings AS interest_earnings\n            FROM user_info ui\n            JOIN time_window tw ON ui.timestamp >= tw.start_time AND ui.timestamp <= tw.end_time\n            WHERE ui.nft_id = '#1#'\n            ORDER BY ui.timestamp ASC\n            LIMIT 1\n        ) AS latest_entry\n    ) AS apy\"\nPL/pgSQL function insert_apy_data() line 3 at SQL statement\n"
     ]
    }
   ],
   "source": [
    "# Delete the table\n",
    "# delete_user_table_query = \"DROP TABLE IF EXISTS user_info\"\n",
    "# cursor.execute(delete_user_table_query)\n",
    "\n",
    "# Create the table if it doesn't exist\n",
    "cursor.execute('''CREATE TABLE IF NOT EXISTS user_info (\n",
    "                    epoch DECIMAL,\n",
    "                    nft_id TEXT,\n",
    "                    timestamp TIMESTAMP,\n",
    "                    lsu_amount DECIMAL,\n",
    "                    staking_rewards DECIMAL,\n",
    "                    interest_earnings DECIMAL,\n",
    "                    PRIMARY KEY (epoch, nft_id)\n",
    "                )''')\n",
    "\n",
    "# Delete the table\n",
    "# delete_state_table_query = \"DROP TABLE IF EXISTS state_info\"\n",
    "# cursor.execute(delete_state_table_query)\n",
    "\n",
    "# Create the table if it doesn't exist\n",
    "cursor.execute('''CREATE TABLE IF NOT EXISTS state_info (\n",
    "                    epoch DECIMAL,\n",
    "                    interest_rate DECIMAL,\n",
    "                    liquidity DECIMAL,\n",
    "                    PRIMARY KEY (epoch)\n",
    "                )''')\n",
    "\n",
    "# # Delete the table\n",
    "# delete_test_table_query = \"DROP TABLE IF EXISTS apy_data\"\n",
    "# cursor.execute(delete_test_table_query)\n",
    "\n",
    "# # Create the table if it doesn't exist\n",
    "cursor.execute('''CREATE TABLE IF NOT EXISTS apy_data (\n",
    "                    epoch DECIMAL,\n",
    "                    timestamp TIMESTAMP,\n",
    "                    staking_rewards_apy DECIMAL,\n",
    "                    interest_earnings_apy DECIMAL,\n",
    "                    total_earnings_apy DECIMAL,\n",
    "                    PRIMARY KEY (epoch)\n",
    "                );''')\n",
    "\n",
    "# Execute the stored procedure\n",
    "cursor.execute(\"CALL insert_apy_data();\")\n",
    "\n",
    "\n",
    "# Commit the changes to the database\n",
    "conn.commit()\n",
    "\n",
    "# Close the cursor and connection\n",
    "cursor.close()\n",
    "conn.close()"
   ]
  },
  {
   "cell_type": "code",
   "execution_count": 55,
   "id": "d6007e53",
   "metadata": {},
   "outputs": [
    {
     "name": "stdout",
     "output_type": "stream",
     "text": [
      "{'ledger_state': {'network': 'kisharnet', 'state_version': 21050598, 'proposer_round_timestamp': '2023-07-09T14:36:03.478Z', 'epoch': 12048, 'round': 1157}, 'release_info': {'release_version': '0.3.1-develop', 'open_api_schema_version': '0.3.0'}}\n"
     ]
    }
   ],
   "source": [
    "# Call Radix network gateway status\n",
    "url = \"https://rcnet.radixdlt.com/status/gateway-status\"\n",
    "\n",
    "# Make a POST request to the Gateway Status endpoint\n",
    "response = requests.post(url)\n",
    "\n",
    "# Check if the request was successful (status code 200)\n",
    "if response.status_code == 200:\n",
    "    # Parse the JSON response\n",
    "    data = response.json()\n",
    "\n",
    "    # Print the entire response for analysis\n",
    "    print(data)\n",
    "else:\n",
    "    # Print an error message if the request was not successful\n",
    "    print(\"Error:\", response.status_code)\n"
   ]
  },
  {
   "cell_type": "code",
   "execution_count": 39,
   "id": "38ce8b0b",
   "metadata": {},
   "outputs": [
    {
     "name": "stdout",
     "output_type": "stream",
     "text": [
      "2023-07-09T12:58:16.434Z\n",
      "12045\n",
      "[['#1#', ['10899', '50', '33.333333333333333325', '0.625']], ['#2#', ['10899', '100', '66.66666666666666665', '1.25']], ['#3#', ['11098', '50', '0.000000000000000025', '0.625']]]\n"
     ]
    },
    {
     "ename": "UniqueViolation",
     "evalue": "duplicate key value violates unique constraint \"user_info_pkey\"\nDETAIL:  Key (epoch, nft_id)=(12045, #1#) already exists.\n",
     "output_type": "error",
     "traceback": [
      "\u001b[0;31m---------------------------------------------------------------------------\u001b[0m",
      "\u001b[0;31mUniqueViolation\u001b[0m                           Traceback (most recent call last)",
      "Cell \u001b[0;32mIn[39], line 63\u001b[0m\n\u001b[1;32m     58\u001b[0m     \u001b[38;5;66;03m# Insert the values into the table\u001b[39;00m\n\u001b[1;32m     59\u001b[0m     insert_query \u001b[38;5;241m=\u001b[39m \u001b[38;5;124m\"\"\"\u001b[39m\n\u001b[1;32m     60\u001b[0m \u001b[38;5;124m    INSERT INTO user_info (epoch, nft_id, timestamp, lsu_amount, staking_rewards, interest_earnings)\u001b[39m\n\u001b[1;32m     61\u001b[0m \u001b[38;5;124m    VALUES (\u001b[39m\u001b[38;5;132;01m%s\u001b[39;00m\u001b[38;5;124m, \u001b[39m\u001b[38;5;132;01m%s\u001b[39;00m\u001b[38;5;124m, \u001b[39m\u001b[38;5;132;01m%s\u001b[39;00m\u001b[38;5;124m, \u001b[39m\u001b[38;5;132;01m%s\u001b[39;00m\u001b[38;5;124m, \u001b[39m\u001b[38;5;132;01m%s\u001b[39;00m\u001b[38;5;124m, \u001b[39m\u001b[38;5;132;01m%s\u001b[39;00m\u001b[38;5;124m)\u001b[39m\n\u001b[1;32m     62\u001b[0m \u001b[38;5;124m    \u001b[39m\u001b[38;5;124m\"\"\"\u001b[39m\n\u001b[0;32m---> 63\u001b[0m     \u001b[43mcursor\u001b[49m\u001b[38;5;241;43m.\u001b[39;49m\u001b[43mexecute\u001b[49m\u001b[43m(\u001b[49m\u001b[43minsert_query\u001b[49m\u001b[43m,\u001b[49m\u001b[43m \u001b[49m\u001b[43m(\u001b[49m\u001b[43mepoch\u001b[49m\u001b[43m,\u001b[49m\u001b[43m \u001b[49m\u001b[43mnft_id\u001b[49m\u001b[43m,\u001b[49m\u001b[43m \u001b[49m\u001b[43mtimestamp\u001b[49m\u001b[43m,\u001b[49m\u001b[43m \u001b[49m\u001b[43mlsu_amount\u001b[49m\u001b[43m,\u001b[49m\u001b[43m \u001b[49m\u001b[43mstaking_rewards\u001b[49m\u001b[43m,\u001b[49m\u001b[43m \u001b[49m\u001b[43minterest_earnings\u001b[49m\u001b[43m)\u001b[49m\u001b[43m)\u001b[49m\n\u001b[1;32m     65\u001b[0m \u001b[38;5;66;03m# Commit the changes to the database\u001b[39;00m\n\u001b[1;32m     66\u001b[0m conn\u001b[38;5;241m.\u001b[39mcommit()\n",
      "\u001b[0;31mUniqueViolation\u001b[0m: duplicate key value violates unique constraint \"user_info_pkey\"\nDETAIL:  Key (epoch, nft_id)=(12045, #1#) already exists.\n"
     ]
    }
   ],
   "source": [
    "# Call Sundae component status to fetch: Hashmap, interest rate, liquidity, etc.\n",
    "url = \"https://rcnet.radixdlt.com/state/entity/details\"\n",
    "\n",
    "# Prepare the request body\n",
    "request_body = {\n",
    "    \"addresses\": [\n",
    "        \"component_tdx_c_1qved97g6ge57lkx95fza63hg2nn8aryjwj3tg596sgxs64u5sz\"\n",
    "    ],\n",
    "    \"aggregation_level\": \"global\"\n",
    "}\n",
    "\n",
    "# Make a POST request to the State Entity Details endpoint\n",
    "response = requests.post(url, json=request_body)\n",
    "\n",
    "# Check if the request was successful (status code 200)\n",
    "if response.status_code == 200:\n",
    "    # Parse the JSON response\n",
    "    data = response.json()\n",
    "    \n",
    "    # Extract proposer timestamp and epoch\n",
    "    timestamp = data[\"ledger_state\"][\"proposer_round_timestamp\"]\n",
    "    \n",
    "    epoch = data[\"ledger_state\"][\"epoch\"]\n",
    "    \n",
    "    print(timestamp)\n",
    "    print(epoch)\n",
    "    \n",
    "    # Extract the 'items' list from the 'data' variable\n",
    "    items = data['items']\n",
    "\n",
    "    # Extract the 'details' dictionary from each item\n",
    "    details = items[0]['details']\n",
    "\n",
    "    # Extract the 'state' dictionary from the 'details' dictionary\n",
    "    state = details['state']\n",
    "\n",
    "    # Extract the 'data_json' dictionary from the 'state' dictionary\n",
    "    data_json = state['data_json']\n",
    "\n",
    "    # Extract the 'fields' dictionary from the 'data_json' dictionary\n",
    "    fields = data_json['fields']\n",
    "\n",
    "    # Extract the 'map_entry' dictionary from the 'fields' dictionary\n",
    "    map_entry = fields[6]\n",
    "\n",
    "    # Access the 'entries' list from the map entry\n",
    "    entries = map_entry['entries']    \n",
    "\n",
    "    print(entries)\n",
    "\n",
    "    # Iterate over the map entries and add them to the dictionary\n",
    "    for entry in entries:\n",
    "        nft_id = entry[0]\n",
    "        lsu_amount = entry[1][1]\n",
    "        staking_rewards = entry[1][2]\n",
    "        interest_earnings = entry[1][3]\n",
    "        \n",
    "        # Insert the values into the table\n",
    "        insert_query = \"\"\"\n",
    "        INSERT INTO user_info (epoch, nft_id, timestamp, lsu_amount, staking_rewards, interest_earnings)\n",
    "        VALUES (%s, %s, %s, %s, %s, %s)\n",
    "        \"\"\"\n",
    "        cursor.execute(insert_query, (epoch, nft_id, timestamp, lsu_amount, staking_rewards, interest_earnings))\n",
    "    \n",
    "    # Commit the changes to the database\n",
    "    conn.commit()\n",
    "\n",
    "    # Close the database connection\n",
    "    conn.close()\n",
    "\n",
    "else:\n",
    "    # Print an error message if the request was not successful\n",
    "    print(\"Error:\", response.status_code)\n"
   ]
  },
  {
   "cell_type": "code",
   "execution_count": null,
   "id": "59c34b8d",
   "metadata": {},
   "outputs": [],
   "source": []
  }
 ],
 "metadata": {
  "kernelspec": {
   "display_name": "Sundae",
   "language": "python",
   "name": "sundae"
  },
  "language_info": {
   "codemirror_mode": {
    "name": "ipython",
    "version": 3
   },
   "file_extension": ".py",
   "mimetype": "text/x-python",
   "name": "python",
   "nbconvert_exporter": "python",
   "pygments_lexer": "ipython3",
   "version": "3.10.9"
  }
 },
 "nbformat": 4,
 "nbformat_minor": 5
}

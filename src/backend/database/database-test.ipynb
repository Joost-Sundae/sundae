{
 "cells": [
  {
   "cell_type": "code",
   "execution_count": 55,
   "id": "911b5d5c",
   "metadata": {},
   "outputs": [],
   "source": [
    "import requests;\n",
    "import psycopg2;\n",
    "import json;"
   ]
  },
  {
   "cell_type": "code",
   "execution_count": 56,
   "id": "d79615de",
   "metadata": {},
   "outputs": [],
   "source": [
    "# Establish a connection to the PostgreSQL database\n",
    "conn = psycopg2.connect(\n",
    "    host=\"localhost\",\n",
    "    database=\"joostdelaere\",\n",
    "    user=\"joostdelaere\",\n",
    "    password=\"\"\n",
    ")\n",
    "\n",
    "cursor = conn.cursor()\n",
    "\n",
    "# Delete the table\n",
    "delete_table_query = \"DROP TABLE IF EXISTS map_data\"\n",
    "cursor.execute(delete_table_query)\n",
    "\n",
    "# Create the table if it doesn't exist\n",
    "cursor.execute('''CREATE TABLE IF NOT EXISTS map_data (\n",
    "                    key TEXT PRIMARY KEY,\n",
    "                    lsu_amount DECIMAL,\n",
    "                    epoch DECIMAL,\n",
    "                    staking_rewards DECIMAL,\n",
    "                    interest_earnings DECIMAL\n",
    "                )''')"
   ]
  },
  {
   "cell_type": "code",
   "execution_count": 57,
   "id": "d6007e53",
   "metadata": {},
   "outputs": [
    {
     "name": "stdout",
     "output_type": "stream",
     "text": [
      "{'ledger_state': {'network': 'kisharnet', 'state_version': 20436283, 'proposer_round_timestamp': '2023-07-03T20:56:09.83Z', 'epoch': 11678, 'round': 115}, 'release_info': {'release_version': '0.3.1-develop', 'open_api_schema_version': '0.3.0'}}\n"
     ]
    }
   ],
   "source": [
    "import requests\n",
    "\n",
    "url = \"https://rcnet.radixdlt.com/status/gateway-status\"\n",
    "\n",
    "# Make a POST request to the Gateway Status endpoint\n",
    "response = requests.post(url)\n",
    "\n",
    "# Check if the request was successful (status code 200)\n",
    "if response.status_code == 200:\n",
    "    # Parse the JSON response\n",
    "    data = response.json()\n",
    "\n",
    "    # Print the entire response for analysis\n",
    "    print(data)\n",
    "else:\n",
    "    # Print an error message if the request was not successful\n",
    "    print(\"Error:\", response.status_code)\n"
   ]
  },
  {
   "cell_type": "code",
   "execution_count": 58,
   "id": "38ce8b0b",
   "metadata": {},
   "outputs": [
    {
     "name": "stdout",
     "output_type": "stream",
     "text": [
      "[['#1#', ['10899', '50', '33.3333333333333333', '0']], ['#2#', ['10899', '100', '66.6666666666666666', '0']], ['#3#', ['11098', '50', '0', '0']]]\n"
     ]
    }
   ],
   "source": [
    "url = \"https://rcnet.radixdlt.com/state/entity/details\"\n",
    "\n",
    "# Prepare the request body\n",
    "request_body = {\n",
    "    \"addresses\": [\n",
    "        \"component_tdx_c_1qved97g6ge57lkx95fza63hg2nn8aryjwj3tg596sgxs64u5sz\"\n",
    "    ],\n",
    "    \"aggregation_level\": \"global\"\n",
    "}\n",
    "\n",
    "# Make a POST request to the State Entity Details endpoint\n",
    "response = requests.post(url, json=request_body)\n",
    "\n",
    "# Check if the request was successful (status code 200)\n",
    "if response.status_code == 200:\n",
    "    # Parse the JSON response\n",
    "    data = response.json()\n",
    "    \n",
    "        # Extract the 'items' list from the 'data' variable\n",
    "    items = data['items']\n",
    "\n",
    "    # Extract the 'details' dictionary from each item\n",
    "    details = item['details']\n",
    "\n",
    "    # Extract the 'state' dictionary from the 'details' dictionary\n",
    "    state = details['state']\n",
    "\n",
    "    # Extract the 'data_json' dictionary from the 'state' dictionary\n",
    "    data_json = state['data_json']\n",
    "\n",
    "    # Extract the 'data_json' dictionary from the 'state' dictionary\n",
    "    fields = data_json['fields']\n",
    "\n",
    "    # Extract the 'data_json' dictionary from the 'state' dictionary\n",
    "    map_entry = fields[6]\n",
    "\n",
    "    # Access the 'entries' list from the map entry\n",
    "    entries = map_entry['entries']    \n",
    "\n",
    "    print(entries)\n",
    "\n",
    "    # Iterate over the map entries and add them to the dictionary\n",
    "    for entry in entries:\n",
    "        key = entry[0]\n",
    "        epoch = entry[1][0]\n",
    "        lsu_amount = entry[1][1]\n",
    "        staking_rewards = entry[1][2]\n",
    "        interest_earnings = entry[1][3]\n",
    "        \n",
    "        # Insert the values into the table\n",
    "        insert_query = \"\"\"\n",
    "        INSERT INTO map_data (key, epoch, lsu_amount, staking_rewards, interest_earnings)\n",
    "        VALUES (%s, %s, %s, %s, %s)\n",
    "        \"\"\"\n",
    "        cursor.execute(insert_query, (key, epoch, lsu_amount, staking_rewards, interest_earnings))\n",
    "    \n",
    "    # Commit the changes to the database\n",
    "    conn.commit()\n",
    "\n",
    "    # Close the database connection\n",
    "    conn.close()\n",
    "\n",
    "else:\n",
    "    # Print an error message if the request was not successful\n",
    "    print(\"Error:\", response.status_code)\n"
   ]
  }
 ],
 "metadata": {
  "kernelspec": {
   "display_name": "Sundae Environment",
   "language": "python",
   "name": "sundae"
  },
  "language_info": {
   "codemirror_mode": {
    "name": "ipython",
    "version": 3
   },
   "file_extension": ".py",
   "mimetype": "text/x-python",
   "name": "python",
   "nbconvert_exporter": "python",
   "pygments_lexer": "ipython3",
   "version": "3.11.4"
  }
 },
 "nbformat": 4,
 "nbformat_minor": 5
}

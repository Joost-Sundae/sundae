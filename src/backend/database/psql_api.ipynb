{
 "cells": [
  {
   "cell_type": "code",
   "execution_count": 1,
   "id": "c745ffe9",
   "metadata": {},
   "outputs": [],
   "source": [
    "import psycopg2;\n",
    "from flask import Flask, jsonify, request\n",
    "from psycopg2 import sql;\n",
    "from flask_cors import CORS"
   ]
  },
  {
   "cell_type": "code",
   "execution_count": 2,
   "id": "1ce2ed94",
   "metadata": {},
   "outputs": [
    {
     "name": "stdout",
     "output_type": "stream",
     "text": [
      " * Serving Flask app '__main__'\n",
      " * Debug mode: off\n"
     ]
    },
    {
     "name": "stderr",
     "output_type": "stream",
     "text": [
      "WARNING: This is a development server. Do not use it in a production deployment. Use a production WSGI server instead.\n",
      " * Running on http://127.0.0.1:5000\n",
      "Press CTRL+C to quit\n",
      "127.0.0.1 - - [09/Jul/2023 10:18:55] \"GET /api/nft_data?nft_ids=%231%23&nft_ids=%232%23&nft_ids=%233%23 HTTP/1.1\" 200 -\n",
      "127.0.0.1 - - [09/Jul/2023 10:22:20] \"GET /api/nft_data?nft_ids=%231%23&nft_ids=%232%23&nft_ids=%233%23 HTTP/1.1\" 200 -\n",
      "127.0.0.1 - - [09/Jul/2023 10:22:52] \"GET /api/nft_data?nft_ids=%231%23&nft_ids=%232%23&nft_ids=%233%23'%20from%20origin%20'http://localhost:5173 HTTP/1.1\" 200 -\n",
      "127.0.0.1 - - [09/Jul/2023 11:14:48] \"GET /api/nft_data?nft_ids=%231%23&nft_ids=%232%23&nft_ids=%233%23 HTTP/1.1\" 200 -\n"
     ]
    }
   ],
   "source": [
    "# setup local development server\n",
    "app = Flask(__name__)\n",
    "\n",
    "CORS(app)  # Enable CORS for all routes\n",
    "\n",
    "# API root message\n",
    "@app.route('/', methods=['GET'])\n",
    "def index():\n",
    "    return 'Welcome to the API!'\n",
    "\n",
    "# NFT historical data call\n",
    "@app.route('/api/nft_data', methods=['GET'])\n",
    "def get_data():\n",
    "    # Get the 'nft_ids' parameter from the request URL\n",
    "    nft_ids = request.args.getlist('nft_ids')\n",
    "    \n",
    "    # Establish a connection to the PostgreSQL database\n",
    "    conn = psycopg2.connect(\n",
    "        host=\"localhost\",\n",
    "        database=\"joostdelaere\",\n",
    "        user=\"joostdelaere\",\n",
    "        password=\"\"\n",
    "    )\n",
    "\n",
    "    cursor = conn.cursor()\n",
    "    \n",
    "    # Construct the SQL query with the nft_ids filter\n",
    "    query = sql.SQL(\"SELECT * FROM user_info WHERE nft_id IN ({})\").format(\n",
    "        sql.SQL(',').join(sql.Placeholder() * len(nft_ids))\n",
    "    )\n",
    "    \n",
    "    # Execute the query with the nft_ids as parameters\n",
    "    cursor.execute(query, nft_ids)\n",
    "\n",
    "    # Fetch the data from the user_info table\n",
    "    data = cursor.fetchall()\n",
    "\n",
    "    # Convert the fetched data to a list of dictionaries\n",
    "    results = []\n",
    "    for row in data:\n",
    "        result = {\n",
    "            'nft_id': row[1],\n",
    "            'timestamp': str(row[3]),\n",
    "            'staking_rewards': float(row[5]),\n",
    "            'interest_earnings': float(row[6])\n",
    "        }\n",
    "        results.append(result)\n",
    "\n",
    "    # Close the database connection\n",
    "    cursor.close()\n",
    "    conn.close()\n",
    "    \n",
    "    # Return the fetched data as JSON\n",
    "    return jsonify(results)\n",
    "\n",
    "# run development server\n",
    "if __name__ == '__main__':\n",
    "    app.run()"
   ]
  },
  {
   "cell_type": "code",
   "execution_count": null,
   "id": "93fbbd1e",
   "metadata": {},
   "outputs": [],
   "source": []
  }
 ],
 "metadata": {
  "kernelspec": {
   "display_name": "Sundae",
   "language": "python",
   "name": "sundae"
  },
  "language_info": {
   "codemirror_mode": {
    "name": "ipython",
    "version": 3
   },
   "file_extension": ".py",
   "mimetype": "text/x-python",
   "name": "python",
   "nbconvert_exporter": "python",
   "pygments_lexer": "ipython3",
   "version": "3.10.9"
  }
 },
 "nbformat": 4,
 "nbformat_minor": 5
}
